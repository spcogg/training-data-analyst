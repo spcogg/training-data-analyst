{
 "cells": [
  {
   "cell_type": "markdown",
   "metadata": {},
   "source": [
    "# Flowers Image Classification with TensorFlow on Cloud ML Engine\n",
    "\n",
    "This notebook demonstrates how to do image classification from scratch on a flowers dataset using the Estimator API."
   ]
  },
  {
   "cell_type": "code",
   "execution_count": 1,
   "metadata": {},
   "outputs": [],
   "source": [
    "import os\n",
    "PROJECT = 'qwiklabs-gcp-54db5af3fcf289f6' # REPLACE WITH YOUR PROJECT ID\n",
    "BUCKET = 'qwiklabs-gcp-54db5af3fcf289f6' # REPLACE WITH YOUR BUCKET NAME\n",
    "REGION = 'us-central1' # REPLACE WITH YOUR BUCKET REGION e.g. us-central1\n",
    "MODEL_TYPE = 'cnn'\n",
    "\n",
    "# do not change these\n",
    "os.environ['PROJECT'] = PROJECT\n",
    "os.environ['BUCKET'] = BUCKET\n",
    "os.environ['REGION'] = REGION\n",
    "os.environ['MODEL_TYPE'] = MODEL_TYPE\n",
    "os.environ['TFVERSION'] = '1.8'  # Tensorflow version"
   ]
  },
  {
   "cell_type": "code",
   "execution_count": 2,
   "metadata": {},
   "outputs": [
    {
     "name": "stderr",
     "output_type": "stream",
     "text": [
      "Updated property [core/project].\n",
      "Updated property [compute/region].\n"
     ]
    }
   ],
   "source": [
    "%%bash\n",
    "gcloud config set project $PROJECT\n",
    "gcloud config set compute/region $REGION"
   ]
  },
  {
   "cell_type": "markdown",
   "metadata": {},
   "source": []
  },
  {
   "cell_type": "markdown",
   "metadata": {},
   "source": [
    "## Input functions to read JPEG images\n",
    "\n",
    "The key difference between this notebook and [the MNIST one](./mnist_models.ipynb) is in the input function.\n",
    "In the input function here, we are doing the following:\n",
    "* Reading JPEG images, rather than 2D integer arrays.\n",
    "* Reading in batches of batch_size images rather than slicing our in-memory structure to be batch_size images.\n",
    "* Resizing the images to the expected HEIGHT, WIDTH. Because this is a real-world dataset, the images are of different sizes. We need to preprocess the data to, at the very least, resize them to constant size.\n",
    "\n",
    "For this task, the 5 classes are pictures of:\n",
    "* sunflowers\n",
    "* tulips\n",
    "* dandelion\n",
    "* daisy\n",
    "* roses\n",
    "\n",
    "https://console.cloud.google.com/storage/browser/cloud-ml-data/img/flower_photos/\n",
    "* train_set.csv\n",
    "* eval_set.csv"
   ]
  },
  {
   "cell_type": "markdown",
   "metadata": {},
   "source": [
    "## Run as a Python module\n",
    "\n",
    "Since we want to run our code on Cloud ML Engine, we've packaged it as a python module.\n",
    "\n",
    "The `model.py` and `task.py` containing the model code is in <a href=\"flowersmodel\">flowersmodel</a>\n",
    "\n",
    "**Complete the TODOs in `model.py` before proceeding!**\n",
    "\n",
    "Once you've completed the TODOs, run it locally for a few steps to test the code."
   ]
  },
  {
   "cell_type": "code",
   "execution_count": 3,
   "metadata": {},
   "outputs": [
    {
     "name": "stderr",
     "output_type": "stream",
     "text": [
      "/usr/local/envs/py3env/lib/python3.5/site-packages/h5py/__init__.py:36: FutureWarning: Conversion of the second argument of issubdtype from `float` to `np.floating` is deprecated. In future, it will be treated as `np.float64 == np.dtype(float).type`.\n",
      "  from ._conv import register_converters as _register_converters\n",
      "INFO:tensorflow:TF_CONFIG environment variable: {'environment': 'cloud', 'job': {'job_name': 'flowersmodel.task', 'args': ['--output_dir=/content/datalab/training-data-analyst/hy-working/08_image/labs/flowers_trained', '--train_steps=5', '--learning_rate=0.01', '--batch_size=2', '--model=cnn', '--augment', '--train_data_path=gs://cloud-ml-data/img/flower_photos/train_set.csv', '--eval_data_path=gs://cloud-ml-data/img/flower_photos/eval_set.csv']}, 'cluster': {}, 'task': {}}\n",
      "INFO:tensorflow:Using config: {'_task_type': 'worker', '_session_config': None, '_save_checkpoints_secs': 300, '_service': None, '_is_chief': True, '_global_id_in_cluster': 0, '_num_ps_replicas': 0, '_keep_checkpoint_every_n_hours': 10000, '_tf_random_seed': None, '_train_distribute': None, '_master': '', '_model_dir': '/content/datalab/training-data-analyst/hy-working/08_image/labs/flowers_trained/', '_evaluation_master': '', '_cluster_spec': <tensorflow.python.training.server_lib.ClusterSpec object at 0x7f2eb198bc18>, '_log_step_count_steps': 100, '_num_worker_replicas': 1, '_save_summary_steps': 100, '_save_checkpoints_steps': None, '_keep_checkpoint_max': 5, '_task_id': 0}\n",
      "INFO:tensorflow:Running training and evaluation locally (non-distributed).\n",
      "INFO:tensorflow:Start train and evaluate loop. The evaluate will happen after 300 secs (eval_spec.throttle_secs) or training is finished.\n",
      "INFO:tensorflow:Calling model_fn.\n",
      "INFO:tensorflow:Done calling model_fn.\n",
      "INFO:tensorflow:Create CheckpointSaverHook.\n",
      "INFO:tensorflow:Graph was finalized.\n",
      "2019-04-10 21:57:11.890392: W tensorflow/core/framework/allocator.cc:101] Allocation of 131424000 exceeds 10% of system memory.\n",
      "2019-04-10 21:57:12.121007: W tensorflow/core/framework/allocator.cc:101] Allocation of 131424000 exceeds 10% of system memory.\n",
      "2019-04-10 21:57:12.355131: W tensorflow/core/framework/allocator.cc:101] Allocation of 131424000 exceeds 10% of system memory.\n",
      "2019-04-10 21:57:12.466633: W tensorflow/core/framework/allocator.cc:101] Allocation of 131424000 exceeds 10% of system memory.\n",
      "2019-04-10 21:57:12.747623: W tensorflow/core/framework/allocator.cc:101] Allocation of 131424000 exceeds 10% of system memory.\n",
      "2019-04-10 21:57:12.899879: W tensorflow/core/framework/allocator.cc:101] Allocation of 131424000 exceeds 10% of system memory.\n",
      "2019-04-10 21:57:13.285556: W tensorflow/core/framework/allocator.cc:101] Allocation of 131424000 exceeds 10% of system memory.\n",
      "2019-04-10 21:57:13.490493: W tensorflow/core/framework/allocator.cc:101] Allocation of 131424000 exceeds 10% of system memory.\n",
      "2019-04-10 21:57:13.612878: W tensorflow/core/framework/allocator.cc:101] Allocation of 131424000 exceeds 10% of system memory.\n",
      "INFO:tensorflow:Running local_init_op.\n",
      "INFO:tensorflow:Done running local_init_op.\n",
      "2019-04-10 21:57:24.025026: W tensorflow/core/framework/allocator.cc:101] Allocation of 131424000 exceeds 10% of system memory.\n",
      "2019-04-10 21:57:24.272321: W tensorflow/core/framework/allocator.cc:101] Allocation of 22201000 exceeds 10% of system memory.\n",
      "2019-04-10 21:57:24.356563: W tensorflow/core/framework/allocator.cc:101] Allocation of 44402000 exceeds 10% of system memory.\n",
      "2019-04-10 21:57:24.572230: W tensorflow/core/framework/allocator.cc:101] Allocation of 53640600 exceeds 10% of system memory.\n",
      "INFO:tensorflow:Saving checkpoints for 1 into /content/datalab/training-data-analyst/hy-working/08_image/labs/flowers_trained/model.ckpt.\n",
      "INFO:tensorflow:loss = 1.5275052, step = 1\n",
      "2019-04-10 21:57:27.100548: W tensorflow/core/framework/allocator.cc:101] Allocation of 131424000 exceeds 10% of system memory.\n",
      "2019-04-10 21:57:27.352630: W tensorflow/core/framework/allocator.cc:101] Allocation of 22201000 exceeds 10% of system memory.\n",
      "2019-04-10 21:57:27.414310: W tensorflow/core/framework/allocator.cc:101] Allocation of 44402000 exceeds 10% of system memory.\n",
      "2019-04-10 21:57:27.554956: W tensorflow/core/framework/allocator.cc:101] Allocation of 53640600 exceeds 10% of system memory.\n",
      "2019-04-10 21:57:28.820799: W tensorflow/core/framework/allocator.cc:101] Allocation of 131424000 exceeds 10% of system memory.\n",
      "2019-04-10 21:57:29.057741: W tensorflow/core/framework/allocator.cc:101] Allocation of 22201000 exceeds 10% of system memory.\n",
      "2019-04-10 21:57:29.113875: W tensorflow/core/framework/allocator.cc:101] Allocation of 44402000 exceeds 10% of system memory.\n",
      "2019-04-10 21:57:29.231328: W tensorflow/core/framework/allocator.cc:101] Allocation of 53640600 exceeds 10% of system memory.\n",
      "2019-04-10 21:57:30.387749: W tensorflow/core/framework/allocator.cc:101] Allocation of 131424000 exceeds 10% of system memory.\n",
      "2019-04-10 21:57:30.640269: W tensorflow/core/framework/allocator.cc:101] Allocation of 22201000 exceeds 10% of system memory.\n",
      "2019-04-10 21:57:30.706454: W tensorflow/core/framework/allocator.cc:101] Allocation of 44402000 exceeds 10% of system memory.\n",
      "2019-04-10 21:57:30.823859: W tensorflow/core/framework/allocator.cc:101] Allocation of 53640600 exceeds 10% of system memory.\n",
      "2019-04-10 21:57:32.033695: W tensorflow/core/framework/allocator.cc:101] Allocation of 131424000 exceeds 10% of system memory.\n",
      "2019-04-10 21:57:32.261274: W tensorflow/core/framework/allocator.cc:101] Allocation of 22201000 exceeds 10% of system memory.\n",
      "2019-04-10 21:57:32.317735: W tensorflow/core/framework/allocator.cc:101] Allocation of 44402000 exceeds 10% of system memory.\n",
      "2019-04-10 21:57:32.429961: W tensorflow/core/framework/allocator.cc:101] Allocation of 53640600 exceeds 10% of system memory.\n",
      "INFO:tensorflow:Saving checkpoints for 5 into /content/datalab/training-data-analyst/hy-working/08_image/labs/flowers_trained/model.ckpt.\n",
      "INFO:tensorflow:Loss for final step: 4.1290264.\n",
      "INFO:tensorflow:Calling model_fn.\n",
      "INFO:tensorflow:Done calling model_fn.\n",
      "INFO:tensorflow:Starting evaluation at 2019-04-10-21:57:37\n",
      "INFO:tensorflow:Graph was finalized.\n",
      "INFO:tensorflow:Restoring parameters from /content/datalab/training-data-analyst/hy-working/08_image/labs/flowers_trained/model.ckpt-5\n",
      "2019-04-10 21:57:37.821117: W tensorflow/core/framework/allocator.cc:101] Allocation of 131424000 exceeds 10% of system memory.\n",
      "2019-04-10 21:57:37.960486: W tensorflow/core/framework/allocator.cc:101] Allocation of 131424000 exceeds 10% of system memory.\n",
      "INFO:tensorflow:Running local_init_op.\n",
      "INFO:tensorflow:Done running local_init_op.\n",
      "INFO:tensorflow:Finished evaluation at 2019-04-10-22:00:39\n",
      "INFO:tensorflow:Saving dict for global step 5: accuracy = 0.2, global_step = 5, loss = 1.6160038\n",
      "INFO:tensorflow:Calling model_fn.\n",
      "INFO:tensorflow:Done calling model_fn.\n",
      "INFO:tensorflow:Signatures INCLUDED in export for Regress: None\n",
      "INFO:tensorflow:Signatures INCLUDED in export for Classify: None\n",
      "INFO:tensorflow:Signatures INCLUDED in export for Predict: ['serving_default', 'classes']\n",
      "INFO:tensorflow:Restoring parameters from /content/datalab/training-data-analyst/hy-working/08_image/labs/flowers_trained/model.ckpt-5\n",
      "2019-04-10 22:00:40.060172: W tensorflow/core/framework/allocator.cc:101] Allocation of 131424000 exceeds 10% of system memory.\n",
      "2019-04-10 22:00:40.207352: W tensorflow/core/framework/allocator.cc:101] Allocation of 131424000 exceeds 10% of system memory.\n",
      "INFO:tensorflow:Assets added to graph.\n",
      "INFO:tensorflow:No assets to write.\n",
      "INFO:tensorflow:SavedModel written to: b\"/content/datalab/training-data-analyst/hy-working/08_image/labs/flowers_trained/export/exporter/temp-b'1554933640'/saved_model.pb\"\n"
     ]
    }
   ],
   "source": [
    "%%bash\n",
    "rm -rf flowersmodel.tar.gz flowers_trained\n",
    "gcloud ml-engine local train \\\n",
    "   --module-name=flowersmodel.task \\\n",
    "   --package-path=${PWD}/flowersmodel \\\n",
    "   -- \\\n",
    "   --output_dir=${PWD}/flowers_trained \\\n",
    "   --train_steps=5 \\\n",
    "   --learning_rate=0.01 \\\n",
    "   --batch_size=2 \\\n",
    "   --model=$MODEL_TYPE \\\n",
    "   --augment \\\n",
    "   --train_data_path=gs://cloud-ml-data/img/flower_photos/train_set.csv \\\n",
    "   --eval_data_path=gs://cloud-ml-data/img/flower_photos/eval_set.csv"
   ]
  },
  {
   "cell_type": "code",
   "execution_count": null,
   "metadata": {},
   "outputs": [],
   "source": [
    "# THe above took ages...not sure why? Well it was done within a minute but took 5 minutes for the results to come through"
   ]
  },
  {
   "cell_type": "markdown",
   "metadata": {},
   "source": [
    "Now, let's do it on ML Engine. Note the --model parameter"
   ]
  },
  {
   "cell_type": "code",
   "execution_count": 4,
   "metadata": {},
   "outputs": [
    {
     "name": "stdout",
     "output_type": "stream",
     "text": [
      "gs://qwiklabs-gcp-54db5af3fcf289f6/flowers/trained_cnn us-central1 flowers_cnn_190410_220315\n",
      "jobId: flowers_cnn_190410_220315\n",
      "state: QUEUED\n"
     ]
    },
    {
     "name": "stderr",
     "output_type": "stream",
     "text": [
      "CommandException: 1 files/objects could not be removed.\n",
      "Job [flowers_cnn_190410_220315] submitted successfully.\n",
      "Your job is still active. You may view the status of your job with the command\n",
      "\n",
      "  $ gcloud ml-engine jobs describe flowers_cnn_190410_220315\n",
      "\n",
      "or continue streaming the logs with the command\n",
      "\n",
      "  $ gcloud ml-engine jobs stream-logs flowers_cnn_190410_220315\n"
     ]
    }
   ],
   "source": [
    "%%bash\n",
    "OUTDIR=gs://${BUCKET}/flowers/trained_${MODEL_TYPE}\n",
    "JOBNAME=flowers_${MODEL_TYPE}_$(date -u +%y%m%d_%H%M%S)\n",
    "echo $OUTDIR $REGION $JOBNAME\n",
    "gsutil -m rm -rf $OUTDIR\n",
    "gcloud ml-engine jobs submit training $JOBNAME \\\n",
    "   --region=$REGION \\\n",
    "   --module-name=flowersmodel.task \\\n",
    "   --package-path=${PWD}/flowersmodel \\\n",
    "   --job-dir=$OUTDIR \\\n",
    "   --staging-bucket=gs://$BUCKET \\\n",
    "   --scale-tier=BASIC_GPU \\\n",
    "   --runtime-version=$TFVERSION \\\n",
    "   -- \\\n",
    "   --output_dir=$OUTDIR \\\n",
    "   --train_steps=1000 \\\n",
    "   --learning_rate=0.01 \\\n",
    "   --batch_size=40 \\\n",
    "   --model=$MODEL_TYPE \\\n",
    "   --augment \\\n",
    "   --batch_norm \\\n",
    "   --train_data_path=gs://cloud-ml-data/img/flower_photos/train_set.csv \\\n",
    "   --eval_data_path=gs://cloud-ml-data/img/flower_photos/eval_set.csv"
   ]
  },
  {
   "cell_type": "markdown",
   "metadata": {},
   "source": [
    "## Monitoring training with TensorBoard\n",
    "\n",
    "Use this cell to launch tensorboard"
   ]
  },
  {
   "cell_type": "code",
   "execution_count": 5,
   "metadata": {},
   "outputs": [
    {
     "name": "stderr",
     "output_type": "stream",
     "text": [
      "/usr/local/envs/py3env/lib/python3.5/site-packages/h5py/__init__.py:36: FutureWarning: Conversion of the second argument of issubdtype from `float` to `np.floating` is deprecated. In future, it will be treated as `np.float64 == np.dtype(float).type`.\n",
      "  from ._conv import register_converters as _register_converters\n"
     ]
    },
    {
     "data": {
      "text/html": [
       "<p>TensorBoard was started successfully with pid 4299. Click <a href=\"/_proxy/57435/\" target=\"_blank\">here</a> to access it.</p>"
      ]
     },
     "metadata": {},
     "output_type": "display_data"
    },
    {
     "data": {
      "text/plain": [
       "4299"
      ]
     },
     "execution_count": 5,
     "metadata": {},
     "output_type": "execute_result"
    }
   ],
   "source": [
    "from google.datalab.ml import TensorBoard\n",
    "TensorBoard().start('gs://{}/flowers/trained_{}'.format(BUCKET, MODEL_TYPE))"
   ]
  },
  {
   "cell_type": "code",
   "execution_count": null,
   "metadata": {},
   "outputs": [],
   "source": [
    "for pid in TensorBoard.list()['pid']:\n",
    "  TensorBoard().stop(pid)\n",
    "  print('Stopped TensorBoard with pid {}'.format(pid))"
   ]
  },
  {
   "cell_type": "markdown",
   "metadata": {},
   "source": [
    "Here are my results (from lab instructor):\n",
    "\n",
    "Model | Accuracy | Time taken | Run time parameters --- | :---: | --- <p>\n",
    "cnn with batch-norm | 0.582 | 47 min | 1000 steps, LR=0.01, Batch=40<p>\n",
    "as above, plus augment | 0.615 | 3 hr | 5000 steps, LR=0.01, Batch=40\n",
    "\n",
    "What was your accuracy?\n",
    "\n",
    "Wow - this stuff takes ages..and it seems the accuracy is not that great also? That acc stat can't be right\n",
    "even hardware is GPU still takes ages??"
   ]
  },
  {
   "cell_type": "code",
   "execution_count": null,
   "metadata": {},
   "outputs": [],
   "source": [
    "\"\"\"\n",
    "This is a lot harder than the toy MNIST data we've been working with...real flowers and stuff. Be interesting to see the actual performance on real pictures\n",
    "(next time on dragonball z)\n",
    "Saving dict for global step 182: accuracy = 0.55675673, global_step = 182, loss = 1.0682857\",2019-04-10T22:28:43.716717468Z,\n",
    "Saving dict for global step 126: accuracy = 0.55135137, global_step = 126, loss = 1.1394851\",2019-04-10T22:23:43.014997392Z,\n",
    "Saving dict for global step 72: accuracy = 0.5027027, global_step = 72, loss = 1.1624756\",2019-04-10T22:18:44.530872320Z,\n",
    "Saving dict for global step 32: accuracy = 0.36486486, global_step = 32, loss = 3.2185192\",2019-04-10T22:13:40.712311201Z,\n",
    "Saving dict for global step 1: accuracy = 0.22162162, global_step = 1, loss = 266.83316\",2019-04-10T22:08:57.828688113Z,\n",
    "\"\"\"\"\"\""
   ]
  },
  {
   "cell_type": "markdown",
   "metadata": {},
   "source": [
    "## Deploying and predicting with model\n",
    "\n",
    "Deploy the model:"
   ]
  },
  {
   "cell_type": "code",
   "execution_count": null,
   "metadata": {},
   "outputs": [],
   "source": [
    "%%bash\n",
    "MODEL_NAME=\"flowers\"\n",
    "MODEL_VERSION=${MODEL_TYPE}\n",
    "MODEL_LOCATION=$(gsutil ls gs://${BUCKET}/flowers/trained_${MODEL_TYPE}/export/exporter | tail -1)\n",
    "echo \"Deleting and deploying $MODEL_NAME $MODEL_VERSION from $MODEL_LOCATION ... this will take a few minutes\"\n",
    "#gcloud ml-engine versions delete --quiet ${MODEL_VERSION} --model ${MODEL_NAME}\n",
    "#gcloud ml-engine models delete ${MODEL_NAME}\n",
    "gcloud ml-engine models create ${MODEL_NAME} --regions $REGION\n",
    "gcloud ml-engine versions create ${MODEL_VERSION} --model ${MODEL_NAME} --origin ${MODEL_LOCATION} --runtime-version=$TFVERSION"
   ]
  },
  {
   "cell_type": "markdown",
   "metadata": {},
   "source": [
    "To predict with the model, let's take one of the example images that is available on Google Cloud Storage <img src=\"http://storage.googleapis.com/cloud-ml-data/img/flower_photos/sunflowers/1022552002_2b93faf9e7_n.jpg\" />"
   ]
  },
  {
   "cell_type": "markdown",
   "metadata": {},
   "source": [
    "The online prediction service expects images to be base64 encoded as described [here](https://cloud.google.com/ml-engine/docs/tensorflow/online-predict#binary_data_in_prediction_input)."
   ]
  },
  {
   "cell_type": "code",
   "execution_count": 6,
   "metadata": {},
   "outputs": [
    {
     "ename": "SyntaxError",
     "evalue": "invalid syntax (<ipython-input-6-7104fe779bd2>, line 1)",
     "output_type": "error",
     "traceback": [
      "\u001b[0;36m  File \u001b[0;32m\"<ipython-input-6-7104fe779bd2>\"\u001b[0;36m, line \u001b[0;32m1\u001b[0m\n\u001b[0;31m    gs://cloud-ml-data/img/flower_photos/roses/3664842094_5fd60ee26b.jpg  # roses\u001b[0m\n\u001b[0m      ^\u001b[0m\n\u001b[0;31mSyntaxError\u001b[0m\u001b[0;31m:\u001b[0m invalid syntax\n"
     ]
    }
   ],
   "source": [
    "gs://cloud-ml-data/img/flower_photos/roses/3664842094_5fd60ee26b.jpg  # roses\n",
    "gs://cloud-ml-data/img/flower_photos/daisy/20948886919_cac7844f34_n.jpg  # daisy\n",
    "gs://cloud-ml-data/img/flower_photos/dandelion/4632251871_9f324a7bb5.jpg # dandelion\n",
    "gs://cloud-ml-data/img/flower_photos/tulips/4516198427_0e5099cd8e.jpg # tulips\n",
    "gs://cloud-ml-data/img/flower_photos/sunflowers/9511172241_8aee411e2e.jpg #sunflowers"
   ]
  },
  {
   "cell_type": "code",
   "execution_count": 7,
   "metadata": {},
   "outputs": [
    {
     "name": "stderr",
     "output_type": "stream",
     "text": [
      "Copying gs://cloud-ml-data/img/flower_photos/sunflowers/9511172241_8aee411e2e.jpg...\n",
      "/ [0 files][    0.0 B/176.9 KiB]                                                \r",
      "/ [1 files][176.9 KiB/176.9 KiB]                                                \r\n",
      "Operation completed over 1 objects/176.9 KiB.                                    \n"
     ]
    }
   ],
   "source": [
    "%%bash\n",
    "IMAGE_URL=gs://cloud-ml-data/img/flower_photos/sunflowers/9511172241_8aee411e2e.jpg\n",
    "\n",
    "# Copy the image to local disk.\n",
    "gsutil cp $IMAGE_URL flower.jpg\n",
    "\n",
    "# Base64 encode and create request message in json format.\n",
    "python -c 'import base64, sys, json; img = base64.b64encode(open(\"flower.jpg\", \"rb\").read()).decode(); print(json.dumps({\"image_bytes\":{\"b64\": img}}))' &> request.json"
   ]
  },
  {
   "cell_type": "markdown",
   "metadata": {},
   "source": [
    "Send it to the prediction service"
   ]
  },
  {
   "cell_type": "code",
   "execution_count": null,
   "metadata": {},
   "outputs": [],
   "source": [
    "%%bash\n",
    "gcloud ml-engine predict \\\n",
    "  --model=flowers \\\n",
    "  --version=${MODEL_TYPE} \\\n",
    "  --json-instances=./request.json"
   ]
  },
  {
   "cell_type": "markdown",
   "metadata": {},
   "source": [
    "<pre>\n",
    "# Copyright 2017 Google Inc. All Rights Reserved.\n",
    "#\n",
    "# Licensed under the Apache License, Version 2.0 (the \"License\");\n",
    "# you may not use this file except in compliance with the License.\n",
    "# You may obtain a copy of the License at\n",
    "#\n",
    "#      http://www.apache.org/licenses/LICENSE-2.0\n",
    "#\n",
    "# Unless required by applicable law or agreed to in writing, software\n",
    "# distributed under the License is distributed on an \"AS IS\" BASIS,\n",
    "# WITHOUT WARRANTIES OR CONDITIONS OF ANY KIND, either express or implied.\n",
    "# See the License for the specific language governing permissions and\n",
    "# limitations under the License.\n",
    "</pre>"
   ]
  }
 ],
 "metadata": {
  "kernelspec": {
   "display_name": "Python 3",
   "language": "python",
   "name": "python3"
  },
  "language_info": {
   "codemirror_mode": {
    "name": "ipython",
    "version": 3
   },
   "file_extension": ".py",
   "mimetype": "text/x-python",
   "name": "python",
   "nbconvert_exporter": "python",
   "pygments_lexer": "ipython3",
   "version": "3.5.6"
  }
 },
 "nbformat": 4,
 "nbformat_minor": 2
}
