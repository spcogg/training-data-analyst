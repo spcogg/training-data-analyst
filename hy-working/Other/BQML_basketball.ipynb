{
 "cells": [
  {
   "cell_type": "markdown",
   "metadata": {},
   "source": [
    "See more details at https://cloud.google.com/bigquery/docs/bigqueryml-ncaa"
   ]
  },
  {
   "cell_type": "code",
   "execution_count": null,
   "metadata": {
    "hiddenCell": true
   },
   "outputs": [],
   "source": [
    "!pip install --upgrade google-cloud-bigquery"
   ]
  },
  {
   "cell_type": "code",
   "execution_count": 1,
   "metadata": {},
   "outputs": [],
   "source": [
    "from google.cloud import bigquery\n",
    "client = bigquery.Client()"
   ]
  },
  {
   "cell_type": "code",
   "execution_count": 20,
   "metadata": {},
   "outputs": [
    {
     "name": "stdout",
     "output_type": "stream",
     "text": [
      "Datasets in project qwiklabs-gcp-4b48b1635e1f4540:\n",
      "\tbqml_test\n"
     ]
    }
   ],
   "source": [
    "# to get the existing project & datasets\n",
    "datasets = list(client.list_datasets())\n",
    "project = client.project\n",
    "\n",
    "if datasets:\n",
    "    print('Datasets in project {}:'.format(project))\n",
    "    for dataset in datasets:  # API request(s)\n",
    "        print('\\t{}'.format(dataset.dataset_id))\n",
    "else:\n",
    "    print('{} project does not contain any datasets.'.format(project))"
   ]
  },
  {
   "cell_type": "code",
   "execution_count": null,
   "metadata": {},
   "outputs": [],
   "source": [
    "# create dataset from scratch:\n",
    "dataset = bigquery.Dataset(client.dataset('bqml_tutorial'))\n",
    "dataset.location = 'US'\n",
    "client.create_dataset(dataset)  # shouldn't need this if already created, steps below created in web UI"
   ]
  },
  {
   "cell_type": "code",
   "execution_count": 26,
   "metadata": {},
   "outputs": [],
   "source": [
    "# attempting to set existing dataset\n",
    "# want to use bqml_test instead of bqml_tutorial\n",
    "# do NOT do this - just point to the right dataset/table in the actual CREATE MODEL query below\n",
    "\n",
    "# dataset = bigquery.Dataset(client.project + '.' + datasets[0].dataset_id)  # this should grab the dataset if it's already there\n",
    "# dataset.location = 'us'\n"
   ]
  },
  {
   "cell_type": "code",
   "execution_count": 6,
   "metadata": {},
   "outputs": [],
   "source": [
    "#get the query from https://bigquery.cloud.google.com/savedquery/1057666841514:77711b21274b4c6485c907483ef2f6fe\n",
    "#note that the public dataset is only avaliable in US, so the destination table should also be US\n",
    "#Apparently BQ doesn't support cross - location BQ transfers yet"
   ]
  },
  {
   "cell_type": "code",
   "execution_count": null,
   "metadata": {},
   "outputs": [],
   "source": [
    "# query to make a cross of the data, joining on the game key to link the two opposing teams (going from Long data to wide data):\n",
    "# official: https://bigquery.cloud.google.com/savedquery/1057666841514:9d4ec2ed8a864e7e8d8c3c9a65faa178\n",
    "# experiment to see if perma-link survives: https://console.cloud.google.com/bigquery?sq=297656834223:1f642e9d233240749ea521b12b2063c1\n"
   ]
  },
  {
   "cell_type": "code",
   "execution_count": 2,
   "metadata": {},
   "outputs": [
    {
     "name": "stdout",
     "output_type": "stream",
     "text": [
      "Empty DataFrame\n",
      "Columns: []\n",
      "Index: []\n"
     ]
    }
   ],
   "source": [
    "# literally creating the model\n",
    "# need to make sure the CREATE OR REPLACE MODEL table reference points to the correct project\n",
    "sql = \"\"\"\n",
    "    CREATE OR REPLACE MODEL `bqml_test.ncaa_model`\n",
    "    OPTIONS (\n",
    "        model_type='linear_reg',\n",
    "        max_iteration=50 ) AS\n",
    "    SELECT\n",
    "        * EXCEPT (\n",
    "            game_id, season, scheduled_date,\n",
    "            total_three_points_made,\n",
    "            total_three_points_att),\n",
    "        total_three_points_att as label\n",
    "    FROM\n",
    "        `bqml_test.wide_games`\n",
    "    WHERE\n",
    "        # remove the game to predict\n",
    "        game_id != 'f1063e80-23c7-486b-9a5e-faa52beb2d83'\n",
    "\"\"\"\n",
    "df = client.query(sql).to_dataframe()\n",
    "print(df)"
   ]
  },
  {
   "cell_type": "code",
   "execution_count": 4,
   "metadata": {},
   "outputs": [
    {
     "name": "stdout",
     "output_type": "stream",
     "text": [
      "   training_run  iteration        loss   eval_loss  duration_ms  learning_rate\n",
      "0             0          8   54.366519  119.470519         8240           0.05\n",
      "1             0          7   64.202786  120.194577         9021           0.05\n",
      "2             0          6   77.925533  145.478604         9130           0.05\n",
      "3             0          5   97.229483  149.119663        10156           0.05\n",
      "4             0          4  124.648797  195.916149         8669           0.05\n",
      "5             0          3  164.101166  208.669329         8875           0.05\n",
      "6             0          2  222.055832  297.970166         8936           0.05\n",
      "7             0          1  311.387630  340.900917         9575           0.05\n",
      "8             0          0  524.885056  587.763086         7120           0.20\n"
     ]
    }
   ],
   "source": [
    "# check model training runs\n",
    "sql = \"\"\"\n",
    "    SELECT\n",
    "        *\n",
    "    FROM\n",
    "        ML.TRAINING_INFO(MODEL `bqml_test.ncaa_model`)\n",
    "\"\"\"\n",
    "df = client.query(sql).to_dataframe()\n",
    "print(df)"
   ]
  },
  {
   "cell_type": "code",
   "execution_count": 7,
   "metadata": {},
   "outputs": [
    {
     "name": "stdout",
     "output_type": "stream",
     "text": [
      "   mean_absolute_error  mean_squared_error  mean_squared_log_error  \\\n",
      "0             6.399684            67.68776                0.055167   \n",
      "\n",
      "   median_absolute_error  r2_score  explained_variance  \n",
      "0               5.426127  0.106071            0.435231  \n"
     ]
    }
   ],
   "source": [
    "# Check evluation table\n",
    "sql = \"\"\"\n",
    "    WITH eval_table AS (\n",
    "        SELECT\n",
    "            *,\n",
    "            total_three_points_att AS label\n",
    "        FROM\n",
    "            `bqml_test.wide_games` )\n",
    "    SELECT\n",
    "        *\n",
    "    FROM\n",
    "        ML.EVALUATE(MODEL `bqml_test.ncaa_model`,\n",
    "            TABLE eval_table)\n",
    "\"\"\"\n",
    "df = client.query(sql).to_dataframe()\n",
    "print(df)\n"
   ]
  },
  {
   "cell_type": "code",
   "execution_count": 9,
   "metadata": {},
   "outputs": [
    {
     "name": "stdout",
     "output_type": "stream",
     "text": [
      "                                game_id  total_three_points_att  \\\n",
      "0  f1063e80-23c7-486b-9a5e-faa52beb2d83                      50   \n",
      "\n",
      "   predicted_total_three_points_att  \n",
      "0                         40.870294  \n"
     ]
    }
   ],
   "source": [
    "# prediction: find the real game vs the actual outcomes\n",
    "# this was kept holdout from the original training data\n",
    "sql = \"\"\"\n",
    "    WITH game_to_predict AS (\n",
    "        SELECT\n",
    "            *\n",
    "        FROM\n",
    "            `bqml_test.wide_games`\n",
    "        WHERE\n",
    "            game_id='f1063e80-23c7-486b-9a5e-faa52beb2d83' )\n",
    "    SELECT\n",
    "        truth.game_id AS game_id,\n",
    "        total_three_points_att,\n",
    "        predicted_total_three_points_att\n",
    "    FROM (\n",
    "        SELECT\n",
    "            game_id,\n",
    "            predicted_label AS predicted_total_three_points_att\n",
    "        FROM\n",
    "            ML.PREDICT(MODEL `bqml_test.ncaa_model`,\n",
    "            table game_to_predict) ) AS predict\n",
    "    JOIN (\n",
    "        SELECT\n",
    "            game_id,\n",
    "            total_three_points_att AS total_three_points_att\n",
    "        FROM\n",
    "            game_to_predict) AS truth\n",
    "    ON\n",
    "        predict.game_id = truth.game_id\n",
    "\"\"\"\n",
    "df = client.query(sql).to_dataframe()\n",
    "print(df)"
   ]
  },
  {
   "cell_type": "code",
   "execution_count": null,
   "metadata": {},
   "outputs": [],
   "source": []
  }
 ],
 "metadata": {
  "kernelspec": {
   "display_name": "Python 2",
   "language": "python",
   "name": "python2"
  },
  "language_info": {
   "codemirror_mode": {
    "name": "ipython",
    "version": 2
   },
   "file_extension": ".py",
   "mimetype": "text/x-python",
   "name": "python",
   "nbconvert_exporter": "python",
   "pygments_lexer": "ipython2",
   "version": "2.7.15"
  }
 },
 "nbformat": 4,
 "nbformat_minor": 2
}
